{
  "cells": [
    {
      "cell_type": "markdown",
      "id": "2fa9dc22",
      "metadata": {
        "id": "2fa9dc22"
      },
      "source": [
        "### Assignment-02"
      ]
    },
    {
      "cell_type": "markdown",
      "id": "35410eea",
      "metadata": {
        "id": "35410eea"
      },
      "source": [
        "1. What is the distribution of accident severity levels?"
      ]
    },
    {
      "cell_type": "code",
      "execution_count": null,
      "id": "0f49a05d",
      "metadata": {
        "id": "0f49a05d",
        "colab": {
          "base_uri": "https://localhost:8080/"
        },
        "outputId": "28262595-63b1-4b17-9cbd-c69168f4cae9"
      },
      "outputs": [
        {
          "output_type": "stream",
          "name": "stdout",
          "text": [
            "Drive already mounted at /content/drive; to attempt to forcibly remount, call drive.mount(\"/content/drive\", force_remount=True).\n"
          ]
        }
      ],
      "source": [
        "from google.colab import drive\n",
        "drive.mount('/content/drive')\n"
      ]
    },
    {
      "cell_type": "code",
      "source": [
        "file_path = \"/content/drive/MyDrive/Road_Accident_Aalysis_project/US_Accidents_March23.csv\""
      ],
      "metadata": {
        "id": "aSy3q22_CDqF"
      },
      "id": "aSy3q22_CDqF",
      "execution_count": null,
      "outputs": []
    },
    {
      "cell_type": "code",
      "source": [
        "import pandas as pd\n",
        "\n",
        "df = pd.read_csv(file_path,nrows=1000000, usecols=[\"Severity\"])\n",
        "severity_counts =df[\"Severity\"].value_counts().sort_index()\n",
        "severity_percent = severity_counts / severity_counts.sum() * 100\n",
        "\n",
        "print(\"Counts:\\n\", severity_counts)\n",
        "print(\"Percentages:\\n\", severity_percent)\n",
        "\n"
      ],
      "metadata": {
        "colab": {
          "base_uri": "https://localhost:8080/"
        },
        "id": "yXn8NDnYCHIX",
        "outputId": "f46344e2-7b4f-4db9-c9cb-265ae963e60a"
      },
      "id": "yXn8NDnYCHIX",
      "execution_count": null,
      "outputs": [
        {
          "output_type": "stream",
          "name": "stdout",
          "text": [
            "Counts:\n",
            " Severity\n",
            "1     38381\n",
            "2    606235\n",
            "3    352187\n",
            "4      3197\n",
            "Name: count, dtype: int64\n",
            "Percentages:\n",
            " Severity\n",
            "1     3.8381\n",
            "2    60.6235\n",
            "3    35.2187\n",
            "4     0.3197\n",
            "Name: count, dtype: float64\n"
          ]
        }
      ]
    },
    {
      "cell_type": "markdown",
      "id": "61b3c3f1",
      "metadata": {
        "id": "61b3c3f1"
      },
      "source": [
        "2. How is the accident frequency distributed by hour of the day?"
      ]
    },
    {
      "cell_type": "code",
      "execution_count": null,
      "id": "8a561570",
      "metadata": {
        "id": "8a561570",
        "colab": {
          "base_uri": "https://localhost:8080/"
        },
        "outputId": "f4769100-a313-467a-98ac-107d80714163"
      },
      "outputs": [
        {
          "output_type": "stream",
          "name": "stdout",
          "text": [
            "\n",
            "Accedents Per day hour\n",
            "8     103530\n",
            "7      98288\n",
            "17     67836\n",
            "16     65979\n",
            "6      62841\n",
            "9      57916\n",
            "18     57178\n",
            "10     52767\n",
            "11     51330\n",
            "15     50070\n",
            "14     44333\n",
            "19     42233\n",
            "12     41558\n",
            "13     40766\n",
            "5      32816\n",
            "20     31740\n",
            "4      27365\n",
            "21     21594\n",
            "22     16678\n",
            "23      7314\n",
            "0       7072\n",
            "2       6844\n",
            "3       6359\n",
            "1       5593\n",
            "Name: count, dtype: int64\n"
          ]
        }
      ],
      "source": [
        "df = pd.read_csv(file_path, nrows=1000000, usecols=[\"Start_Time\"], parse_dates=[\"Start_Time\"])\n",
        "df[\"hour\"] = df[\"Start_Time\"].dt.hour\n",
        "accedents_per_hour=df['hour'].value_counts()\n",
        "print(\"\\nAccedents Per day\",accedents_per_hour)"
      ]
    },
    {
      "cell_type": "markdown",
      "id": "a9399ad2",
      "metadata": {
        "id": "a9399ad2"
      },
      "source": [
        "3. Which days of the week have the highest number of accidents?"
      ]
    },
    {
      "cell_type": "code",
      "execution_count": null,
      "id": "cf3c014d",
      "metadata": {
        "id": "cf3c014d",
        "colab": {
          "base_uri": "https://localhost:8080/"
        },
        "outputId": "42afa375-310a-4dba-96f0-434f510702fd"
      },
      "outputs": [
        {
          "output_type": "stream",
          "name": "stdout",
          "text": [
            "Accident counts by day of week:\n",
            " weekday\n",
            "Wednesday    184092\n",
            "Thursday     183382\n",
            "Tuesday      180425\n",
            "Friday       176977\n",
            "Monday       170123\n",
            "Saturday      55423\n",
            "Sunday        49578\n",
            "Name: count, dtype: int64\n"
          ]
        }
      ],
      "source": [
        "df = pd.read_csv(file_path, nrows=1000000, usecols=[\"Start_Time\"])\n",
        "# Converting  to datetime\n",
        "df[\"Start_Time\"] = pd.to_datetime(df[\"Start_Time\"])\n",
        "df[\"weekday\"] = df[\"Start_Time\"].dt.day_name()\n",
        "day_count = df[\"weekday\"].value_counts()\n",
        "\n",
        "print(\"Accident counts by day of week:\\n\", day_count)"
      ]
    },
    {
      "cell_type": "markdown",
      "id": "15063162",
      "metadata": {
        "id": "15063162"
      },
      "source": [
        "4. What are the most common weather conditions during accidents?"
      ]
    },
    {
      "cell_type": "code",
      "execution_count": null,
      "id": "f51dea19",
      "metadata": {
        "id": "f51dea19",
        "colab": {
          "base_uri": "https://localhost:8080/"
        },
        "outputId": "ca81b433-c365-45cf-99bf-6a25ca2ca0ce"
      },
      "outputs": [
        {
          "output_type": "stream",
          "name": "stdout",
          "text": [
            "Top 10 Weather Conditions during Accidents:\n",
            " Weather_Condition\n",
            "Fair                237311\n",
            "Clear               208905\n",
            "Mostly Cloudy       134344\n",
            "Partly Cloudy        93409\n",
            "Overcast             80265\n",
            "Cloudy               69424\n",
            "Scattered Clouds     47595\n",
            "Light Rain           41845\n",
            "Fog                  10837\n",
            "Haze                  9960\n",
            "Name: count, dtype: int64\n"
          ]
        }
      ],
      "source": [
        "df = pd.read_csv(file_path, nrows=1000000, usecols=[\"Weather_Condition\"])\n",
        "\n",
        "weather_counts = df[\"Weather_Condition\"].value_counts().head(10)\n",
        "\n",
        "print(\"Top 10 Weather Conditions during Accidents:\\n\", weather_counts)"
      ]
    },
    {
      "cell_type": "markdown",
      "id": "f0adb452",
      "metadata": {
        "id": "f0adb452"
      },
      "source": [
        "5. How to identify columns with missing data and their missing percentage?"
      ]
    },
    {
      "cell_type": "code",
      "execution_count": null,
      "id": "dd1a733c",
      "metadata": {
        "id": "dd1a733c",
        "colab": {
          "base_uri": "https://localhost:8080/"
        },
        "outputId": "0a60049c-0f51-4036-898e-12e0d59ec6fa"
      },
      "outputs": [
        {
          "output_type": "stream",
          "name": "stdout",
          "text": [
            "\n",
            "columns with missing data                Missing Values  Missing percentage\n",
            "ID                         0                 0.0\n",
            "Source                     0                 0.0\n",
            "Severity                   0                 0.0\n",
            "Start_Time                 0                 0.0\n",
            "End_Time                   0                 0.0\n",
            "Start_Lat                  0                 0.0\n",
            "Start_Lng                  0                 0.0\n",
            "End_Lat              1000000               100.0\n",
            "End_Lng              1000000               100.0\n",
            "Distance(mi)               0                 0.0\n"
          ]
        }
      ],
      "source": [
        "df = pd.read_csv(file_path, nrows=1000000)\n",
        "missing_counts = df.isnull().sum()\n",
        "\n",
        "# Calculating missing percentages\n",
        "missing_percentage = (missing_counts / len(df)) * 100\n",
        "missing_data = pd.DataFrame({\n",
        "    \"Missing Values\": missing_counts,\n",
        "    \"Missing percentage\": missing_percentage\n",
        "})\n",
        "\n",
        "print(\"\\ncolumns with missing data \",missing_data.head(10))"
      ]
    },
    {
      "cell_type": "markdown",
      "id": "856274e5",
      "metadata": {
        "id": "856274e5"
      },
      "source": [
        "6. How to impute missing numerical values with median?"
      ]
    },
    {
      "cell_type": "code",
      "execution_count": null,
      "id": "36247d8b",
      "metadata": {
        "id": "36247d8b",
        "colab": {
          "base_uri": "https://localhost:8080/"
        },
        "outputId": "0ba54ef4-6a23-4641-f87a-912bbafc0385"
      },
      "outputs": [
        {
          "output_type": "stream",
          "name": "stdout",
          "text": [
            "\n",
            " missing numerical values with median     ID   Source  Severity           Start_Time             End_Time  \\\n",
            "0  A-1  Source2         3  2016-02-08 05:46:00  2016-02-08 11:00:00   \n",
            "1  A-2  Source2         2  2016-02-08 06:07:59  2016-02-08 06:37:59   \n",
            "2  A-3  Source2         2  2016-02-08 06:49:27  2016-02-08 07:19:27   \n",
            "3  A-4  Source2         3  2016-02-08 07:23:34  2016-02-08 07:53:34   \n",
            "4  A-5  Source2         2  2016-02-08 07:39:07  2016-02-08 08:09:07   \n",
            "\n",
            "   Start_Lat  Start_Lng  End_Lat  End_Lng  Distance(mi)  ... Roundabout  \\\n",
            "0  39.865147 -84.058723      NaN      NaN          0.01  ...      False   \n",
            "1  39.928059 -82.831184      NaN      NaN          0.01  ...      False   \n",
            "2  39.063148 -84.032608      NaN      NaN          0.01  ...      False   \n",
            "3  39.747753 -84.205582      NaN      NaN          0.01  ...      False   \n",
            "4  39.627781 -84.188354      NaN      NaN          0.01  ...      False   \n",
            "\n",
            "  Station   Stop Traffic_Calming Traffic_Signal Turning_Loop Sunrise_Sunset  \\\n",
            "0   False  False           False          False        False          Night   \n",
            "1   False  False           False          False        False          Night   \n",
            "2   False  False           False           True        False          Night   \n",
            "3   False  False           False          False        False          Night   \n",
            "4   False  False           False           True        False            Day   \n",
            "\n",
            "  Civil_Twilight Nautical_Twilight Astronomical_Twilight  \n",
            "0          Night             Night                 Night  \n",
            "1          Night             Night                   Day  \n",
            "2          Night               Day                   Day  \n",
            "3            Day               Day                   Day  \n",
            "4            Day               Day                   Day  \n",
            "\n",
            "[5 rows x 46 columns]\n"
          ]
        }
      ],
      "source": [
        "df.fillna(df.median(numeric_only=True), inplace=True)\n",
        "print(\"\\n missing numerical values with median\",df.head())\n"
      ]
    },
    {
      "cell_type": "markdown",
      "id": "ec23d938",
      "metadata": {
        "id": "ec23d938"
      },
      "source": [
        "7. How to impute missing categorical values with the mode?"
      ]
    },
    {
      "cell_type": "code",
      "execution_count": null,
      "id": "7fe64774",
      "metadata": {
        "id": "7fe64774",
        "colab": {
          "base_uri": "https://localhost:8080/"
        },
        "outputId": "ee172da1-a153-42e2-a557-398e2a2c3d1a"
      },
      "outputs": [
        {
          "output_type": "stream",
          "name": "stdout",
          "text": [
            "\n",
            "Missing categorical values filled with mode:\n",
            "    ID   Source  Severity           Start_Time             End_Time  \\\n",
            "0  A-1  Source2         3  2016-02-08 05:46:00  2016-02-08 11:00:00   \n",
            "1  A-2  Source2         2  2016-02-08 06:07:59  2016-02-08 06:37:59   \n",
            "2  A-3  Source2         2  2016-02-08 06:49:27  2016-02-08 07:19:27   \n",
            "3  A-4  Source2         3  2016-02-08 07:23:34  2016-02-08 07:53:34   \n",
            "4  A-5  Source2         2  2016-02-08 07:39:07  2016-02-08 08:09:07   \n",
            "\n",
            "   Start_Lat  Start_Lng  End_Lat  End_Lng  Distance(mi)  ... Roundabout  \\\n",
            "0  39.865147 -84.058723      NaN      NaN          0.01  ...      False   \n",
            "1  39.928059 -82.831184      NaN      NaN          0.01  ...      False   \n",
            "2  39.063148 -84.032608      NaN      NaN          0.01  ...      False   \n",
            "3  39.747753 -84.205582      NaN      NaN          0.01  ...      False   \n",
            "4  39.627781 -84.188354      NaN      NaN          0.01  ...      False   \n",
            "\n",
            "  Station   Stop Traffic_Calming Traffic_Signal Turning_Loop Sunrise_Sunset  \\\n",
            "0   False  False           False          False        False          Night   \n",
            "1   False  False           False          False        False          Night   \n",
            "2   False  False           False           True        False          Night   \n",
            "3   False  False           False          False        False          Night   \n",
            "4   False  False           False           True        False            Day   \n",
            "\n",
            "  Civil_Twilight Nautical_Twilight Astronomical_Twilight  \n",
            "0          Night             Night                 Night  \n",
            "1          Night             Night                   Day  \n",
            "2          Night               Day                   Day  \n",
            "3            Day               Day                   Day  \n",
            "4            Day               Day                   Day  \n",
            "\n",
            "[5 rows x 46 columns]\n"
          ]
        }
      ],
      "source": [
        "df.fillna(df.mode().iloc[0], inplace=True)\n",
        "\n",
        "print(\"\\nMissing categorical values filled with mode:\")\n",
        "print(df.head())"
      ]
    },
    {
      "cell_type": "markdown",
      "id": "d5c5fba8",
      "metadata": {
        "id": "d5c5fba8"
      },
      "source": [
        "8. How to label encode a categorical column?"
      ]
    },
    {
      "cell_type": "code",
      "execution_count": null,
      "id": "97eb7b2c",
      "metadata": {
        "id": "97eb7b2c",
        "colab": {
          "base_uri": "https://localhost:8080/"
        },
        "outputId": "efed52bb-d88c-4d21-e737-2e327c175c8a"
      },
      "outputs": [
        {
          "output_type": "stream",
          "name": "stdout",
          "text": [
            "\n",
            "Label Encoded 'Civil_Twilight' column:\n",
            "       Civil_Twilight  Civil_Twilight_Encoded\n",
            "0               Night                       1\n",
            "1               Night                       1\n",
            "2               Night                       1\n",
            "3                 Day                       0\n",
            "4                 Day                       0\n",
            "...               ...                     ...\n",
            "999995          Night                       1\n",
            "999996          Night                       1\n",
            "999997          Night                       1\n",
            "999998          Night                       1\n",
            "999999          Night                       1\n",
            "\n",
            "[1000000 rows x 2 columns]\n"
          ]
        }
      ],
      "source": [
        "df['Civil_Twilight_Encoded'] = df['Civil_Twilight'].astype('category').cat.codes\n",
        "print(\"\\nLabel Encoded 'Civil_Twilight' column:\")\n",
        "print(df[['Civil_Twilight', 'Civil_Twilight_Encoded']])"
      ]
    },
    {
      "cell_type": "markdown",
      "id": "dc01b004",
      "metadata": {
        "id": "dc01b004"
      },
      "source": [
        "9. How to one-hot encode a categorical column?"
      ]
    },
    {
      "cell_type": "code",
      "execution_count": null,
      "id": "8aa1d9a1",
      "metadata": {
        "id": "8aa1d9a1",
        "colab": {
          "base_uri": "https://localhost:8080/"
        },
        "outputId": "f8f4b711-ea37-4c18-99c7-feda706bd918"
      },
      "outputs": [
        {
          "output_type": "stream",
          "name": "stdout",
          "text": [
            "\n",
            "One-hot encoded dataset:\n",
            "    ID   Source  Severity           Start_Time             End_Time  \\\n",
            "0  A-1  Source2         3  2016-02-08 05:46:00  2016-02-08 11:00:00   \n",
            "1  A-2  Source2         2  2016-02-08 06:07:59  2016-02-08 06:37:59   \n",
            "2  A-3  Source2         2  2016-02-08 06:49:27  2016-02-08 07:19:27   \n",
            "3  A-4  Source2         3  2016-02-08 07:23:34  2016-02-08 07:53:34   \n",
            "4  A-5  Source2         2  2016-02-08 07:39:07  2016-02-08 08:09:07   \n",
            "\n",
            "   Start_Lat  Start_Lng  End_Lat  End_Lng  Distance(mi)  ... City_Zephyr Cove  \\\n",
            "0  39.865147 -84.058723      NaN      NaN          0.01  ...            False   \n",
            "1  39.928059 -82.831184      NaN      NaN          0.01  ...            False   \n",
            "2  39.063148 -84.032608      NaN      NaN          0.01  ...            False   \n",
            "3  39.747753 -84.205582      NaN      NaN          0.01  ...            False   \n",
            "4  39.627781 -84.188354      NaN      NaN          0.01  ...            False   \n",
            "\n",
            "  City_Zephyrhills City_Zieglerville City_Zimmerman City_Zion City_Zionsville  \\\n",
            "0            False             False          False     False           False   \n",
            "1            False             False          False     False           False   \n",
            "2            False             False          False     False           False   \n",
            "3            False             False          False     False           False   \n",
            "4            False             False          False     False           False   \n",
            "\n",
            "  City_Zirconia City_Zolfo Springs City_Zumbro Falls  City_Zumbrota  \n",
            "0         False              False             False          False  \n",
            "1         False              False             False          False  \n",
            "2         False              False             False          False  \n",
            "3         False              False             False          False  \n",
            "4         False              False             False          False  \n",
            "\n",
            "[5 rows x 8787 columns]\n"
          ]
        }
      ],
      "source": [
        "import pandas as pd\n",
        "df_encoded = pd.get_dummies(df,columns=['City'], drop_first=False)\n",
        "print(\"\\nOne-hot encoded dataset:\")\n",
        "print(df_encoded.head())"
      ]
    }
  ],
  "metadata": {
    "kernelspec": {
      "display_name": "Python 3",
      "language": "python",
      "name": "python3"
    },
    "language_info": {
      "name": "python",
      "version": "3.11.9"
    },
    "colab": {
      "provenance": []
    }
  },
  "nbformat": 4,
  "nbformat_minor": 5
}